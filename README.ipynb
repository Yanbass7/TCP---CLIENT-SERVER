{
  "nbformat": 4,
  "nbformat_minor": 0,
  "metadata": {
    "colab": {
      "name": "Untitled15.ipynb",
      "provenance": []
    },
    "kernelspec": {
      "name": "python3",
      "display_name": "Python 3"
    },
    "language_info": {
      "name": "python"
    }
  },
  "cells": [
    {
      "cell_type": "markdown",
      "source": [
        "#             **Implementation of a client/server - TCP.**\n",
        "\n",
        "In this implementation, clients request files from a server, which fulfills the requested requests."
      ],
      "metadata": {
        "id": "jTWetFFGUPRp"
      }
    },
    {
      "cell_type": "markdown",
      "source": [
        "In this project a TCP client/server was implemented. Where basically we have a client that requests the files located in the server directory, where it meets the files requested by the client.\n",
        "\n",
        "First, we upload the server, which waits for the client to establish a connection to request the files. After the client requests a file, the server goes through its CACHE memory. If found, the payload of the file goes through the deserialization process, followed by sending it to the client. When finished, the connection is closed. e If the requested file is not found in the server's cache memory, it looks in its folder address (Directory), after finding the file, the server sends it over the same connection.\n",
        "\n",
        "When storing the used load of the file, the available space in the cache memory is checked, which has a size limitation of 64 MB. If the file size exceeds this value, a process of reallocation of the files present in the cache is started.\n",
        "\n",
        "The strategy used for the reallocation process is to check if there is any file in cache memory, which is larger than the file being requested, then remove this file and store the new one. If none of the files are larger than the requested file, a cycle of removing the files follows until the cache has enough space to allocate the new file.\n",
        "\n",
        "\n",
        "A Multi-Thread service was implemented on the server, where for each connected client, a Thread is created, executing the flow of its requests in parallel, with concurrent control over the reading/writing in cache memory.\n",
        "\n",
        "The cache memory is implemented as a hash table, where we have the registry key for each element is the file name and properties.\n",
        "\n",
        "After establishing a connection between the clients and the server. The server starts to wait for your request, which can be:\n",
        "1 - A list of files located in the server cache.\n",
        "2 - The files in the server's own directory.\n",
        "\n",
        "\n",
        "\n",
        "\n",
        "\n",
        "\n",
        "\n"
      ],
      "metadata": {
        "id": "VO-Pc3gLeUuu"
      }
    },
    {
      "cell_type": "markdown",
      "source": [
        "**Step 1:** Using the command prompt, access the folder where the server.py file is saved and execute the following command:\n",
        "\n",
        "\n"
      ],
      "metadata": {
        "id": "a8MVDEcDhZru"
      }
    },
    {
      "cell_type": "code",
      "source": [
        "python server.py 3872 ./"
      ],
      "metadata": {
        "id": "aFD26tBHg46w"
      },
      "execution_count": null,
      "outputs": []
    },
    {
      "cell_type": "markdown",
      "source": [
        "**Step 2:** In a new command prompt screen, we access the folder where the client.py file is saved and execute the following command:"
      ],
      "metadata": {
        "id": "p1QKSHoLiJZN"
      }
    },
    {
      "cell_type": "code",
      "source": [
        "python client.py localhost 3872 [título + extensão] ./"
      ],
      "metadata": {
        "id": "evF_hrsTiuU6"
      },
      "execution_count": null,
      "outputs": []
    },
    {
      "cell_type": "markdown",
      "source": [
        "Where the host (We use Local), Port (3872) and in [title + extension] we insert the title and extension of the desired file, for example, \"livro.pdf\"."
      ],
      "metadata": {
        "id": "jP_ViAOPizU6"
      }
    },
    {
      "cell_type": "markdown",
      "source": [
        "After the client requests a file using the command:"
      ],
      "metadata": {
        "id": "rmXQQszkjcJJ"
      }
    },
    {
      "cell_type": "code",
      "source": [
        "python client.py localhost 3872 [livro.pdf] ./"
      ],
      "metadata": {
        "id": "GOaUA9i-jjL4"
      },
      "execution_count": null,
      "outputs": []
    },
    {
      "cell_type": "markdown",
      "source": [
        "If it exists, the following message will be displayed on the client's screen \"livro.pdf saved successfully\". And if the requested file does not exist, a message written \"does not exist\" will be displayed on the server screen.\n"
      ],
      "metadata": {
        "id": "bxN1EIc-hn1u"
      }
    },
    {
      "cell_type": "markdown",
      "source": [
        "**Step 3:** Requesting a list of files from cache memory.\n",
        "\n",
        "Use the following command on the client screen:\n"
      ],
      "metadata": {
        "id": "DuRskZivkI0X"
      }
    },
    {
      "cell_type": "code",
      "source": [
        "python client.py localhost 3872 list"
      ],
      "metadata": {
        "id": "_mfHFGagkmOO"
      },
      "execution_count": null,
      "outputs": []
    },
    {
      "cell_type": "markdown",
      "source": [
        "![image.png](data:image/png;base64,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)"
      ],
      "metadata": {
        "id": "SxZzY0enkoCE"
      }
    },
    {
      "cell_type": "markdown",
      "source": [
        "The following files are found in the cache memory list: \"audio.mp3 and video.mp4\".\n",
        "\n",
        "\n",
        "\n"
      ],
      "metadata": {
        "id": "01ACRY0Jk_zs"
      }
    },
    {
      "cell_type": "markdown",
      "source": [
        "Pre - Requirements:\n",
        "\n",
        "1. Python 3 or higher\n",
        "2. Windows 10 OS\n",
        "3. Python packages: os, pikle, socket, sys\n",
        "\n"
      ],
      "metadata": {
        "id": "VKGcDUGWlVMU"
      }
    }
  ]
}